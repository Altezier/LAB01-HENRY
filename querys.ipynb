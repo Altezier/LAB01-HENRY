{
 "cells": [
  {
   "attachments": {},
   "cell_type": "markdown",
   "metadata": {},
   "source": [
    "## QUERYS"
   ]
  },
  {
   "attachments": {},
   "cell_type": "markdown",
   "metadata": {},
   "source": [
    "Aquí procedo a realizar la realización de las querys en local, para mas tarde añadirlo a main.py y ejecutarlo en la API."
   ]
  },
  {
   "cell_type": "code",
   "execution_count": 18,
   "metadata": {},
   "outputs": [],
   "source": [
    "#Importo las librerías pandas para trabajar con los csv como dataframes y duckdb para realizar las querys conforme a cada consulta.\n",
    "import pandas as pd\n",
    "import duckdb as dk"
   ]
  },
  {
   "cell_type": "code",
   "execution_count": 19,
   "metadata": {},
   "outputs": [
    {
     "data": {
      "text/html": [
       "<div>\n",
       "<style scoped>\n",
       "    .dataframe tbody tr th:only-of-type {\n",
       "        vertical-align: middle;\n",
       "    }\n",
       "\n",
       "    .dataframe tbody tr th {\n",
       "        vertical-align: top;\n",
       "    }\n",
       "\n",
       "    .dataframe thead th {\n",
       "        text-align: right;\n",
       "    }\n",
       "</style>\n",
       "<table border=\"1\" class=\"dataframe\">\n",
       "  <thead>\n",
       "    <tr style=\"text-align: right;\">\n",
       "      <th></th>\n",
       "      <th>id</th>\n",
       "      <th>type</th>\n",
       "      <th>title</th>\n",
       "      <th>director</th>\n",
       "      <th>cast</th>\n",
       "      <th>country</th>\n",
       "      <th>date_added</th>\n",
       "      <th>release_year</th>\n",
       "      <th>rating</th>\n",
       "      <th>listed_in</th>\n",
       "      <th>description</th>\n",
       "      <th>duration_int</th>\n",
       "      <th>duration_type</th>\n",
       "      <th>score</th>\n",
       "    </tr>\n",
       "  </thead>\n",
       "  <tbody>\n",
       "    <tr>\n",
       "      <th>0</th>\n",
       "      <td>as1</td>\n",
       "      <td>movie</td>\n",
       "      <td>the grand seduction</td>\n",
       "      <td>don mckellar</td>\n",
       "      <td>brendan gleeson, taylor kitsch, gordon pinsent</td>\n",
       "      <td>canada</td>\n",
       "      <td>2021-03-30</td>\n",
       "      <td>2014</td>\n",
       "      <td>g</td>\n",
       "      <td>comedy, drama</td>\n",
       "      <td>a small fishing village must procure a local d...</td>\n",
       "      <td>113</td>\n",
       "      <td>min</td>\n",
       "      <td>3.467131</td>\n",
       "    </tr>\n",
       "  </tbody>\n",
       "</table>\n",
       "</div>"
      ],
      "text/plain": [
       "    id   type                title      director  \\\n",
       "0  as1  movie  the grand seduction  don mckellar   \n",
       "\n",
       "                                             cast country  date_added  \\\n",
       "0  brendan gleeson, taylor kitsch, gordon pinsent  canada  2021-03-30   \n",
       "\n",
       "   release_year rating      listed_in  \\\n",
       "0          2014      g  comedy, drama   \n",
       "\n",
       "                                         description  duration_int  \\\n",
       "0  a small fishing village must procure a local d...           113   \n",
       "\n",
       "  duration_type     score  \n",
       "0           min  3.467131  "
      ]
     },
     "execution_count": 19,
     "metadata": {},
     "output_type": "execute_result"
    }
   ],
   "source": [
    "#Extraigo el dataset de moviescores y pruebo si funcionan las consultas.\n",
    "df = pd.read_csv(\"datasets/moviescores.csv\", sep=';')\n",
    "dk.query(\"select * from df\").df().head(1)"
   ]
  },
  {
   "attachments": {},
   "cell_type": "markdown",
   "metadata": {},
   "source": [
    "1. #Película con mayor duración con filtros opcionales de AÑO, PLATAFORMA Y TIPO DE DURACIÓN. (la función debe llamarse get_max_duration(year, platform, duration_type))"
   ]
  },
  {
   "cell_type": "code",
   "execution_count": 63,
   "metadata": {},
   "outputs": [
    {
     "data": {
      "text/html": [
       "<div>\n",
       "<style scoped>\n",
       "    .dataframe tbody tr th:only-of-type {\n",
       "        vertical-align: middle;\n",
       "    }\n",
       "\n",
       "    .dataframe tbody tr th {\n",
       "        vertical-align: top;\n",
       "    }\n",
       "\n",
       "    .dataframe thead th {\n",
       "        text-align: right;\n",
       "    }\n",
       "</style>\n",
       "<table border=\"1\" class=\"dataframe\">\n",
       "  <thead>\n",
       "    <tr style=\"text-align: right;\">\n",
       "      <th></th>\n",
       "      <th>title</th>\n",
       "      <th>release_year</th>\n",
       "      <th>duration_int</th>\n",
       "      <th>duration_type</th>\n",
       "    </tr>\n",
       "  </thead>\n",
       "  <tbody>\n",
       "    <tr>\n",
       "      <th>0</th>\n",
       "      <td>mad men</td>\n",
       "      <td>2014</td>\n",
       "      <td>7</td>\n",
       "      <td>seasons</td>\n",
       "    </tr>\n",
       "  </tbody>\n",
       "</table>\n",
       "</div>"
      ],
      "text/plain": [
       "     title  release_year  duration_int duration_type\n",
       "0  mad men          2014             7       seasons"
      ]
     },
     "execution_count": 63,
     "metadata": {},
     "output_type": "execute_result"
    }
   ],
   "source": [
    "# Para esta query general tomo en consideración la plataforma, el año y el tipo de duración(min,seasons), permitiendo por defecto hallar  quien tenga mayor duración conforme a esos parámetros. Ya sea en una plataforma especifica en el año ingresado bajo el criterio de duración, pudiendo ser un tv show o película.\n",
    "\n",
    "plat='n%'\n",
    "year=2014\n",
    "durtype='seasons'\n",
    "\n",
    "dk.query(f\"SELECT title, release_year, duration_int, duration_type FROM df WHERE id like '{plat}' and release_year='{year}' and duration_type='{durtype}' ORDER BY duration_int DESC LIMIT 1\").df()"
   ]
  },
  {
   "attachments": {},
   "cell_type": "markdown",
   "metadata": {},
   "source": [
    "De aquí en adelante todas las queryes para hallar el mismo resultado de aquel tv show o película que tenga la mayor duración"
   ]
  },
  {
   "cell_type": "code",
   "execution_count": 64,
   "metadata": {},
   "outputs": [
    {
     "data": {
      "text/html": [
       "<div>\n",
       "<style scoped>\n",
       "    .dataframe tbody tr th:only-of-type {\n",
       "        vertical-align: middle;\n",
       "    }\n",
       "\n",
       "    .dataframe tbody tr th {\n",
       "        vertical-align: top;\n",
       "    }\n",
       "\n",
       "    .dataframe thead th {\n",
       "        text-align: right;\n",
       "    }\n",
       "</style>\n",
       "<table border=\"1\" class=\"dataframe\">\n",
       "  <thead>\n",
       "    <tr style=\"text-align: right;\">\n",
       "      <th></th>\n",
       "      <th>title</th>\n",
       "      <th>release_year</th>\n",
       "      <th>duration_int</th>\n",
       "      <th>duration_type</th>\n",
       "    </tr>\n",
       "  </thead>\n",
       "  <tbody>\n",
       "    <tr>\n",
       "      <th>0</th>\n",
       "      <td>grey's anatomy</td>\n",
       "      <td>2020</td>\n",
       "      <td>17</td>\n",
       "      <td>seasons</td>\n",
       "    </tr>\n",
       "  </tbody>\n",
       "</table>\n",
       "</div>"
      ],
      "text/plain": [
       "            title  release_year  duration_int duration_type\n",
       "0  grey's anatomy          2020            17       seasons"
      ]
     },
     "execution_count": 64,
     "metadata": {},
     "output_type": "execute_result"
    }
   ],
   "source": [
    "# Utilizo solo los parámetros de plataforma y tipo de duration.\n",
    "plat='n%'\n",
    "durtype='seasons'   \n",
    "dk.query(f\"SELECT title, release_year, duration_int, duration_type FROM df WHERE id like '{plat}' and duration_type='{durtype}' ORDER BY duration_int DESC LIMIT 1\").df()"
   ]
  },
  {
   "cell_type": "code",
   "execution_count": 95,
   "metadata": {},
   "outputs": [
    {
     "data": {
      "text/html": [
       "<div>\n",
       "<style scoped>\n",
       "    .dataframe tbody tr th:only-of-type {\n",
       "        vertical-align: middle;\n",
       "    }\n",
       "\n",
       "    .dataframe tbody tr th {\n",
       "        vertical-align: top;\n",
       "    }\n",
       "\n",
       "    .dataframe thead th {\n",
       "        text-align: right;\n",
       "    }\n",
       "</style>\n",
       "<table border=\"1\" class=\"dataframe\">\n",
       "  <thead>\n",
       "    <tr style=\"text-align: right;\">\n",
       "      <th></th>\n",
       "      <th>title</th>\n",
       "      <th>release_year</th>\n",
       "      <th>duration_int</th>\n",
       "      <th>duration_type</th>\n",
       "    </tr>\n",
       "  </thead>\n",
       "  <tbody>\n",
       "    <tr>\n",
       "      <th>0</th>\n",
       "      <td>the gospel of matthew</td>\n",
       "      <td>2014</td>\n",
       "      <td>190</td>\n",
       "      <td>min</td>\n",
       "    </tr>\n",
       "  </tbody>\n",
       "</table>\n",
       "</div>"
      ],
      "text/plain": [
       "                   title  release_year  duration_int duration_type\n",
       "0  the gospel of matthew          2014           190           min"
      ]
     },
     "execution_count": 95,
     "metadata": {},
     "output_type": "execute_result"
    }
   ],
   "source": [
    "#Utilizo solo los parámetros de plataforma y año.\n",
    "plat='n%'\n",
    "year='2014'\n",
    "dk.query(f\"SELECT title, release_year, duration_int, duration_type FROM df WHERE id like '{plat}' and release_year='{year}' ORDER BY duration_int DESC LIMIT 1\").df()"
   ]
  },
  {
   "cell_type": "code",
   "execution_count": 66,
   "metadata": {},
   "outputs": [
    {
     "data": {
      "text/html": [
       "<div>\n",
       "<style scoped>\n",
       "    .dataframe tbody tr th:only-of-type {\n",
       "        vertical-align: middle;\n",
       "    }\n",
       "\n",
       "    .dataframe tbody tr th {\n",
       "        vertical-align: top;\n",
       "    }\n",
       "\n",
       "    .dataframe thead th {\n",
       "        text-align: right;\n",
       "    }\n",
       "</style>\n",
       "<table border=\"1\" class=\"dataframe\">\n",
       "  <thead>\n",
       "    <tr style=\"text-align: right;\">\n",
       "      <th></th>\n",
       "      <th>title</th>\n",
       "      <th>release_year</th>\n",
       "      <th>duration_int</th>\n",
       "      <th>duration_type</th>\n",
       "    </tr>\n",
       "  </thead>\n",
       "  <tbody>\n",
       "    <tr>\n",
       "      <th>0</th>\n",
       "      <td>survivor</td>\n",
       "      <td>2014</td>\n",
       "      <td>19</td>\n",
       "      <td>seasons</td>\n",
       "    </tr>\n",
       "  </tbody>\n",
       "</table>\n",
       "</div>"
      ],
      "text/plain": [
       "      title  release_year  duration_int duration_type\n",
       "0  survivor          2014            19       seasons"
      ]
     },
     "execution_count": 66,
     "metadata": {},
     "output_type": "execute_result"
    }
   ],
   "source": [
    "#Utilizo los parámetros de año y tipo de duración.\n",
    "year='2014'\n",
    "durtype='seasons'\n",
    "dk.query(f\"SELECT title, release_year, duration_int, duration_type FROM df WHERE release_year='{year}' and duration_type='{durtype}' ORDER BY duration_int DESC LIMIT 1\").df()"
   ]
  },
  {
   "cell_type": "code",
   "execution_count": 67,
   "metadata": {},
   "outputs": [
    {
     "data": {
      "text/html": [
       "<div>\n",
       "<style scoped>\n",
       "    .dataframe tbody tr th:only-of-type {\n",
       "        vertical-align: middle;\n",
       "    }\n",
       "\n",
       "    .dataframe tbody tr th {\n",
       "        vertical-align: top;\n",
       "    }\n",
       "\n",
       "    .dataframe thead th {\n",
       "        text-align: right;\n",
       "    }\n",
       "</style>\n",
       "<table border=\"1\" class=\"dataframe\">\n",
       "  <thead>\n",
       "    <tr style=\"text-align: right;\">\n",
       "      <th></th>\n",
       "      <th>title</th>\n",
       "      <th>release_year</th>\n",
       "      <th>duration_int</th>\n",
       "      <th>duration_type</th>\n",
       "    </tr>\n",
       "  </thead>\n",
       "  <tbody>\n",
       "    <tr>\n",
       "      <th>0</th>\n",
       "      <td>black mirror: bandersnatch</td>\n",
       "      <td>2018</td>\n",
       "      <td>312</td>\n",
       "      <td>min</td>\n",
       "    </tr>\n",
       "  </tbody>\n",
       "</table>\n",
       "</div>"
      ],
      "text/plain": [
       "                        title  release_year  duration_int duration_type\n",
       "0  black mirror: bandersnatch          2018           312           min"
      ]
     },
     "execution_count": 67,
     "metadata": {},
     "output_type": "execute_result"
    }
   ],
   "source": [
    "#Utilizo solo el parámetro de plataforma.\n",
    "plat = 'n%'\n",
    "dk.query(f\"SELECT title, release_year, duration_int, duration_type FROM df WHERE id like '{plat}' ORDER BY duration_int DESC LIMIT 1\").df()"
   ]
  },
  {
   "cell_type": "code",
   "execution_count": 68,
   "metadata": {},
   "outputs": [
    {
     "data": {
      "text/html": [
       "<div>\n",
       "<style scoped>\n",
       "    .dataframe tbody tr th:only-of-type {\n",
       "        vertical-align: middle;\n",
       "    }\n",
       "\n",
       "    .dataframe tbody tr th {\n",
       "        vertical-align: top;\n",
       "    }\n",
       "\n",
       "    .dataframe thead th {\n",
       "        text-align: right;\n",
       "    }\n",
       "</style>\n",
       "<table border=\"1\" class=\"dataframe\">\n",
       "  <thead>\n",
       "    <tr style=\"text-align: right;\">\n",
       "      <th></th>\n",
       "      <th>title</th>\n",
       "      <th>release_year</th>\n",
       "      <th>duration_int</th>\n",
       "      <th>duration_type</th>\n",
       "    </tr>\n",
       "  </thead>\n",
       "  <tbody>\n",
       "    <tr>\n",
       "      <th>0</th>\n",
       "      <td>survivor</td>\n",
       "      <td>2000</td>\n",
       "      <td>34</td>\n",
       "      <td>seasons</td>\n",
       "    </tr>\n",
       "  </tbody>\n",
       "</table>\n",
       "</div>"
      ],
      "text/plain": [
       "      title  release_year  duration_int duration_type\n",
       "0  survivor          2000            34       seasons"
      ]
     },
     "execution_count": 68,
     "metadata": {},
     "output_type": "execute_result"
    }
   ],
   "source": [
    "#Utilizo solo el parámetro de tipo de duración.\n",
    "durtype = 'seasons'\n",
    "dk.query(f\"SELECT title, release_year, duration_int, duration_type FROM df WHERE duration_type='{durtype}' ORDER BY duration_int DESC LIMIT 1\").df()"
   ]
  },
  {
   "cell_type": "code",
   "execution_count": 69,
   "metadata": {},
   "outputs": [
    {
     "data": {
      "text/html": [
       "<div>\n",
       "<style scoped>\n",
       "    .dataframe tbody tr th:only-of-type {\n",
       "        vertical-align: middle;\n",
       "    }\n",
       "\n",
       "    .dataframe tbody tr th {\n",
       "        vertical-align: top;\n",
       "    }\n",
       "\n",
       "    .dataframe thead th {\n",
       "        text-align: right;\n",
       "    }\n",
       "</style>\n",
       "<table border=\"1\" class=\"dataframe\">\n",
       "  <thead>\n",
       "    <tr style=\"text-align: right;\">\n",
       "      <th></th>\n",
       "      <th>title</th>\n",
       "      <th>release_year</th>\n",
       "      <th>duration_int</th>\n",
       "      <th>duration_type</th>\n",
       "    </tr>\n",
       "  </thead>\n",
       "  <tbody>\n",
       "    <tr>\n",
       "      <th>0</th>\n",
       "      <td>midnight thunderstorm for sleep 9 hours</td>\n",
       "      <td>2014</td>\n",
       "      <td>541</td>\n",
       "      <td>min</td>\n",
       "    </tr>\n",
       "  </tbody>\n",
       "</table>\n",
       "</div>"
      ],
      "text/plain": [
       "                                     title  release_year  duration_int  \\\n",
       "0  midnight thunderstorm for sleep 9 hours          2014           541   \n",
       "\n",
       "  duration_type  \n",
       "0           min  "
      ]
     },
     "execution_count": 69,
     "metadata": {},
     "output_type": "execute_result"
    }
   ],
   "source": [
    "#Utilizo solo el parámetro de año.\n",
    "year='2014'\n",
    "dk.query(f\"SELECT title, release_year, duration_int, duration_type FROM df WHERE release_year='{year}' ORDER BY duration_int DESC LIMIT 1\").df()\n"
   ]
  },
  {
   "cell_type": "code",
   "execution_count": 98,
   "metadata": {},
   "outputs": [
    {
     "data": {
      "text/html": [
       "<div>\n",
       "<style scoped>\n",
       "    .dataframe tbody tr th:only-of-type {\n",
       "        vertical-align: middle;\n",
       "    }\n",
       "\n",
       "    .dataframe tbody tr th {\n",
       "        vertical-align: top;\n",
       "    }\n",
       "\n",
       "    .dataframe thead th {\n",
       "        text-align: right;\n",
       "    }\n",
       "</style>\n",
       "<table border=\"1\" class=\"dataframe\">\n",
       "  <thead>\n",
       "    <tr style=\"text-align: right;\">\n",
       "      <th></th>\n",
       "      <th>title</th>\n",
       "      <th>release_year</th>\n",
       "      <th>duration_int</th>\n",
       "      <th>duration_type</th>\n",
       "    </tr>\n",
       "  </thead>\n",
       "  <tbody>\n",
       "    <tr>\n",
       "      <th>0</th>\n",
       "      <td>soothing surf at del norte for sleep black screen</td>\n",
       "      <td>2018</td>\n",
       "      <td>601</td>\n",
       "      <td>min</td>\n",
       "    </tr>\n",
       "  </tbody>\n",
       "</table>\n",
       "</div>"
      ],
      "text/plain": [
       "                                               title  release_year  \\\n",
       "0  soothing surf at del norte for sleep black screen          2018   \n",
       "\n",
       "   duration_int duration_type  \n",
       "0           601           min  "
      ]
     },
     "execution_count": 98,
     "metadata": {},
     "output_type": "execute_result"
    }
   ],
   "source": [
    "#Consulta por defecto sin ningún parámetro ingresado. Agarraría todas las plataformas sin considerar la fecha ni la duración del tv show o película. \n",
    "dk.query(f\"SELECT title, release_year, duration_int, duration_type FROM df ORDER BY duration_int DESC LIMIT 1\").df()"
   ]
  },
  {
   "cell_type": "code",
   "execution_count": 121,
   "metadata": {},
   "outputs": [
    {
     "data": {
      "text/html": [
       "<div>\n",
       "<style scoped>\n",
       "    .dataframe tbody tr th:only-of-type {\n",
       "        vertical-align: middle;\n",
       "    }\n",
       "\n",
       "    .dataframe tbody tr th {\n",
       "        vertical-align: top;\n",
       "    }\n",
       "\n",
       "    .dataframe thead th {\n",
       "        text-align: right;\n",
       "    }\n",
       "</style>\n",
       "<table border=\"1\" class=\"dataframe\">\n",
       "  <thead>\n",
       "    <tr style=\"text-align: right;\">\n",
       "      <th></th>\n",
       "      <th>title</th>\n",
       "      <th>release_year</th>\n",
       "      <th>duration_int</th>\n",
       "      <th>duration_type</th>\n",
       "    </tr>\n",
       "  </thead>\n",
       "  <tbody>\n",
       "    <tr>\n",
       "      <th>0</th>\n",
       "      <td>midnight thunderstorm for sleep 9 hours</td>\n",
       "      <td>2014</td>\n",
       "      <td>541</td>\n",
       "      <td>min</td>\n",
       "    </tr>\n",
       "  </tbody>\n",
       "</table>\n",
       "</div>"
      ],
      "text/plain": [
       "                                     title  release_year  duration_int  \\\n",
       "0  midnight thunderstorm for sleep 9 hours          2014           541   \n",
       "\n",
       "  duration_type  \n",
       "0           min  "
      ]
     },
     "execution_count": 121,
     "metadata": {},
     "output_type": "execute_result"
    }
   ],
   "source": [
    "#Una prueba de como se ejecutaría localmente fuera de la función.\n",
    "year= input()\n",
    "plat= input()\n",
    "durtype= input()\n",
    "\n",
    "if plat == \"amazon\":\n",
    "            plat = \"a%\"\n",
    "elif plat == \"disney\":\n",
    "            plat = \"d%\"\n",
    "elif plat == \"hulu\":\n",
    "            plat = \"h%\"\n",
    "elif plat== \"netflix\":\n",
    "            plat = \"n%\"\n",
    "elif plat != \"\":\n",
    "        print (\"No hay existencias de esa plataforma. Las opciones de plataforma son: amazon, disney, hulu, netflix. En minúsculas respectivamente\") #Mensaje de error si es que no se ingreso la plataforma correctament\n",
    "\n",
    "if  not year and not plat and not durtype:\n",
    "        result=dk.query(f\"SELECT title, release_year, duration_int, duration_type FROM df ORDER BY duration_int DESC LIMIT 1\").df()\n",
    "elif not year and not plat:\n",
    "        result=dk.query(f\"SELECT title, release_year, duration_int, duration_type FROM df WHERE duration_type='{durtype}' ORDER BY duration_int DESC LIMIT 1\").df()\n",
    "elif not year and not durtype:\n",
    "        result= dk.query(f\"SELECT title, release_year, duration_int, duration_type FROM df WHERE id like '{plat}' ORDER BY duration_int DESC LIMIT 1\").df()\n",
    "elif not plat and not durtype:\n",
    "        result=dk.query(f\"SELECT title, release_year, duration_int, duration_type FROM df WHERE release_year='{year}' ORDER BY duration_int DESC LIMIT 1\").df()\n",
    "elif not year :\n",
    "        result=dk.query(f\"SELECT title, release_year, duration_int, duration_type FROM df WHERE id like '{plat}' and duration_type='{durtype}' ORDER BY duration_int DESC LIMIT 1\").df()\n",
    "elif not plat:\n",
    "        result=dk.query(f\"SELECT title, release_year, duration_int, duration_type FROM df WHERE release_year='{year}' and duration_type='{durtype}' ORDER BY duration_int DESC LIMIT 1\").df()\n",
    "elif not durtype:\n",
    "        result=dk.query(f\"SELECT title, release_year, duration_int, duration_type FROM df WHERE id like '{plat}' and release_year='{year}' ORDER BY duration_int DESC LIMIT 1\").df()\n",
    "else:\n",
    "        result = dk.query(f\"SELECT title, release_year, duration_int, duration_type FROM df WHERE id like '{plat}' and release_year='{year}' and duration_type='{durtype}' ORDER BY duration_int DESC LIMIT 1\").df()\n",
    "    \n",
    "result"
   ]
  },
  {
   "cell_type": "code",
   "execution_count": 123,
   "metadata": {},
   "outputs": [],
   "source": [
    "#Película con mayor duración con filtros opcionales de AÑO, PLATAFORMA Y TIPO DE DURACIÓN. (la función debe llamarse get_max_duration(year, platform, duration_type))\n",
    "def get_max_duration(year: int ,durtype: str , platform: str ):\n",
    "    #Lectura de la base de datos localmente alojada en datasets:\n",
    "    df = pd.read_csv(\"datasets/moviescores.csv\",sep=';')\n",
    "    #Transformación de plataformas ingresadas para que lo pueda leer la consulta:\n",
    "    df['duration_int']=df['duration_int'].astype('int64')\n",
    "    #Pequeño arreglo para transformar duration_int a int, luego de la importación se cambia a float.\n",
    "\n",
    "    #Defino las plataformas\n",
    "    if platform == \"amazon\":\n",
    "        plat = \"a%\"\n",
    "    elif platform == \"disney\":\n",
    "        plat = \"d%\"\n",
    "    elif platform == \"hulu\":\n",
    "        plat = \"h%\"\n",
    "    elif platform == \"netflix\":\n",
    "        plat = \"n%\"\n",
    "    elif platform == None: #Aquí le agregue None para que se guarde en la variable.\n",
    "        plat = None\n",
    "    else :\n",
    "        return (\"No hay existencias de esa plataforma. Las opciones de plataforma son: amazon, disney, hulu, netflix. En minúsculas respectivamente\") #Mensaje de error si es que no se ingreso la plataforma correctamente.\n",
    "        \n",
    "    if durtype == \"season\" or durtype == \"seasons\":\n",
    "        durtype = \"seasons\"\n",
    "    elif durtype ==\"m\" or durtype ==\"min\" :\n",
    "        durtype = \"min\"    \n",
    "    elif durtype != None : # Descarto cualquier otro valor que no pudiera ser los previos indicados inclusive el vació.\n",
    "         return (\"No hay existencias de ese tipo de duración, Las alternativas son: seasons y min. En minúsculas respectivamente.\")\n",
    "    \n",
    "    #Aquí añado todas las queys opcionales que se va a ir ejecutando según se vean valores faltantes.\n",
    "    #QUERYS:\n",
    "    if  not year and plat == None and not durtype:\n",
    "        result=dk.query(f\"SELECT title, release_year, duration_int, duration_type FROM df ORDER BY duration_int DESC LIMIT 1\").df()\n",
    "    elif not year and plat == None:\n",
    "        result=dk.query(f\"SELECT title, release_year, duration_int, duration_type FROM df WHERE duration_type='{durtype}' ORDER BY duration_int DESC LIMIT 1\").df()\n",
    "    elif not year and not durtype:\n",
    "        result= dk.query(f\"SELECT title, release_year, duration_int, duration_type FROM df WHERE id like '{plat}' ORDER BY duration_int DESC LIMIT 1\").df()\n",
    "    elif plat == None and not durtype:\n",
    "        result=dk.query(f\"SELECT title, release_year, duration_int, duration_type FROM df WHERE release_year='{year}' ORDER BY duration_int DESC LIMIT 1\").df()\n",
    "    elif not year :\n",
    "        result=dk.query(f\"SELECT title, release_year, duration_int, duration_type FROM df WHERE id like '{plat}' and duration_type='{durtype}' ORDER BY duration_int DESC LIMIT 1\").df()\n",
    "    elif plat == None:\n",
    "        result=dk.query(f\"SELECT title, release_year, duration_int, duration_type FROM df WHERE release_year='{year}' and duration_type='{durtype}' ORDER BY duration_int DESC LIMIT 1\").df()\n",
    "    elif not durtype:\n",
    "        result=dk.query(f\"SELECT title, release_year, duration_int, duration_type FROM df WHERE id like '{plat}' and release_year='{year}' ORDER BY duration_int DESC LIMIT 1\").df()\n",
    "    else:\n",
    "        result = dk.query(f\"SELECT title, release_year, duration_int, duration_type FROM df WHERE id like '{plat}' and release_year='{year}' and duration_type='{durtype}' ORDER BY duration_int DESC LIMIT 1\").df()\n",
    "    \n",
    "    #Se verifica el contenido de la variable \"result\". En caso de no estar vacío:\n",
    "    if not result.iloc[0,0] == 0:\n",
    "        return result.to_dict() #Se retornan los datos como diccionario.\n",
    "    \n",
    "    #Si la variable no tiene contenido:\n",
    "    else:\n",
    "        return (\"No hay películas en dicha plataforma, en ese año y con el tipo de duration indicado.\")\n",
    "    "
   ]
  },
  {
   "cell_type": "code",
   "execution_count": 124,
   "metadata": {},
   "outputs": [
    {
     "data": {
      "text/plain": [
       "{'title': {0: 'midnight thunderstorm for sleep 9 hours'},\n",
       " 'release_year': {0: 2014},\n",
       " 'duration_int': {0: 541},\n",
       " 'duration_type': {0: 'min'}}"
      ]
     },
     "execution_count": 124,
     "metadata": {},
     "output_type": "execute_result"
    }
   ],
   "source": [
    "get_max_duration(2014,None,None)"
   ]
  },
  {
   "attachments": {},
   "cell_type": "markdown",
   "metadata": {},
   "source": [
    "2. Cantidad de películas por plataforma con un puntaje mayor a XX en determinado año (la función debe llamarse get_score_count(platform, scored, year))"
   ]
  },
  {
   "cell_type": "code",
   "execution_count": 125,
   "metadata": {},
   "outputs": [
    {
     "data": {
      "text/html": [
       "<div>\n",
       "<style scoped>\n",
       "    .dataframe tbody tr th:only-of-type {\n",
       "        vertical-align: middle;\n",
       "    }\n",
       "\n",
       "    .dataframe tbody tr th {\n",
       "        vertical-align: top;\n",
       "    }\n",
       "\n",
       "    .dataframe thead th {\n",
       "        text-align: right;\n",
       "    }\n",
       "</style>\n",
       "<table border=\"1\" class=\"dataframe\">\n",
       "  <thead>\n",
       "    <tr style=\"text-align: right;\">\n",
       "      <th></th>\n",
       "      <th>count(title)</th>\n",
       "    </tr>\n",
       "  </thead>\n",
       "  <tbody>\n",
       "    <tr>\n",
       "      <th>0</th>\n",
       "      <td>26</td>\n",
       "    </tr>\n",
       "  </tbody>\n",
       "</table>\n",
       "</div>"
      ],
      "text/plain": [
       "   count(title)\n",
       "0            26"
      ]
     },
     "execution_count": 125,
     "metadata": {},
     "output_type": "execute_result"
    }
   ],
   "source": [
    "#Consulta que se realiza considerando los parámetros plataforma, score y año. Se estaría consultando la cantidad de títulos de \"\"películas\"\"\" según la plataforma indicada, tan aquellas mayores al score ingresado , en el año también indicado.\n",
    "plat='a%'\n",
    "score= 3.6\n",
    "year= 2015\n",
    "dk.query(f\"SELECT COUNT(title) FROM df WHERE id LIKE '{plat}' AND type == 'movie' AND score > {score} AND release_year == {year}\").df()"
   ]
  },
  {
   "cell_type": "code",
   "execution_count": 126,
   "metadata": {},
   "outputs": [],
   "source": [
    "def get_score_count(platform: str, score: float, year: int):\n",
    "    #Lectura de la base de datos:\n",
    "    df = pd.read_csv(\"datasets/moviescores.csv\", sep=';')\n",
    "    \n",
    "    #Defino las plataformas:\n",
    "    if platform == \"amazon\":\n",
    "        plat = \"a%\"\n",
    "    elif platform == \"disney\":\n",
    "        plat = \"d%\"\n",
    "    elif platform == \"hulu\":\n",
    "        plat = \"h%\"\n",
    "    elif platform == \"netflix\":\n",
    "        plat = \"n%\"\n",
    "    else:\n",
    "        return (\"Plataforma incorrecta. Las opciones son: amazon, disney, hulu, netflix. En minúsculas respectivamente\")\n",
    "    #QUERY:\n",
    "    result = dk.query(f\"SELECT COUNT(title) FROM df WHERE id LIKE '{plat}' AND type == 'movie' AND score > {score} AND release_year == {year}\").df() \n",
    "    #Se verifica el contenido de la variable \"result\". En caso de no estar vacío:\n",
    "    if not result.iloc[0,0] == 0:\n",
    "        return result.to_dict() #retorna los datos solicitados en la consulta, como un diccionario.\n",
    "    #Si la variable no tiene contenido:\n",
    "    else:\n",
    "        return (\"No hay películas registradas en esa plataforma, con ese puntaje en el año indicado.\")\n",
    "    "
   ]
  },
  {
   "cell_type": "code",
   "execution_count": 127,
   "metadata": {},
   "outputs": [
    {
     "data": {
      "text/plain": [
       "{'count(title)': {0: 26}}"
      ]
     },
     "execution_count": 127,
     "metadata": {},
     "output_type": "execute_result"
    }
   ],
   "source": [
    "get_score_count('amazon',3.6,2015)"
   ]
  },
  {
   "attachments": {},
   "cell_type": "markdown",
   "metadata": {},
   "source": [
    "3.Cantidad de películas por plataforma con filtro de PLATAFORMA. (La función debe llamarse get_count_platform(platform))"
   ]
  },
  {
   "cell_type": "code",
   "execution_count": 128,
   "metadata": {},
   "outputs": [
    {
     "data": {
      "text/html": [
       "<div>\n",
       "<style scoped>\n",
       "    .dataframe tbody tr th:only-of-type {\n",
       "        vertical-align: middle;\n",
       "    }\n",
       "\n",
       "    .dataframe tbody tr th {\n",
       "        vertical-align: top;\n",
       "    }\n",
       "\n",
       "    .dataframe thead th {\n",
       "        text-align: right;\n",
       "    }\n",
       "</style>\n",
       "<table border=\"1\" class=\"dataframe\">\n",
       "  <thead>\n",
       "    <tr style=\"text-align: right;\">\n",
       "      <th></th>\n",
       "      <th>count(title)</th>\n",
       "    </tr>\n",
       "  </thead>\n",
       "  <tbody>\n",
       "    <tr>\n",
       "      <th>0</th>\n",
       "      <td>7814</td>\n",
       "    </tr>\n",
       "  </tbody>\n",
       "</table>\n",
       "</div>"
      ],
      "text/plain": [
       "   count(title)\n",
       "0          7814"
      ]
     },
     "execution_count": 128,
     "metadata": {},
     "output_type": "execute_result"
    }
   ],
   "source": [
    "# Para esta consulta considero el parámetro de plataforma.\n",
    "# Básicamente cuenta la cantidad de títulos (tv shows o películas) que se encuentran en determinada plataforma.\n",
    "plat='a%'\n",
    "dk.query(f\"SELECT COUNT(title) FROM df WHERE id LIKE '{plat}' AND type == 'movie'\").df()"
   ]
  },
  {
   "cell_type": "code",
   "execution_count": 129,
   "metadata": {},
   "outputs": [],
   "source": [
    "def get_count_platform(platform: str):\n",
    "    #Lectura de la base de datos:\n",
    "    df = pd.read_csv(\"datasets\\moviescores.csv\", sep=';')\n",
    "    \n",
    "    #Defino las plataformas:\n",
    "    if platform == \"amazon\":\n",
    "        plat = \"a%\"\n",
    "    elif platform == \"disney\":\n",
    "        plat = \"d%\"\n",
    "    elif platform == \"hulu\":\n",
    "        plat = \"h%\"\n",
    "    elif platform == \"netflix\":\n",
    "        plat = \"n%\"\n",
    "    else:\n",
    "        return (\"Plataforma incorrecta. Las opciones son: amazon, disney, hulu, netflix. En minúsculas, respectivamente.\")\n",
    "    result = dk.query(f\"SELECT COUNT(title) FROM df WHERE id LIKE '{plat}' AND type == 'movie'\").df()\n",
    "\n",
    "    return result.to_dict()    "
   ]
  },
  {
   "attachments": {},
   "cell_type": "markdown",
   "metadata": {},
   "source": [
    "4. Actor que más se repite según plataforma y año. (La función debe llamarse get_actor(platform, year))"
   ]
  },
  {
   "cell_type": "code",
   "execution_count": 130,
   "metadata": {},
   "outputs": [
    {
     "data": {
      "text/html": [
       "<div>\n",
       "<style scoped>\n",
       "    .dataframe tbody tr th:only-of-type {\n",
       "        vertical-align: middle;\n",
       "    }\n",
       "\n",
       "    .dataframe tbody tr th {\n",
       "        vertical-align: top;\n",
       "    }\n",
       "\n",
       "    .dataframe thead th {\n",
       "        text-align: right;\n",
       "    }\n",
       "</style>\n",
       "<table border=\"1\" class=\"dataframe\">\n",
       "  <thead>\n",
       "    <tr style=\"text-align: right;\">\n",
       "      <th></th>\n",
       "      <th>id</th>\n",
       "      <th>type</th>\n",
       "      <th>title</th>\n",
       "      <th>director</th>\n",
       "      <th>cast</th>\n",
       "      <th>country</th>\n",
       "      <th>date_added</th>\n",
       "      <th>release_year</th>\n",
       "      <th>rating</th>\n",
       "      <th>listed_in</th>\n",
       "      <th>description</th>\n",
       "      <th>duration_int</th>\n",
       "      <th>duration_type</th>\n",
       "      <th>score</th>\n",
       "    </tr>\n",
       "  </thead>\n",
       "  <tbody>\n",
       "    <tr>\n",
       "      <th>0</th>\n",
       "      <td>as1</td>\n",
       "      <td>movie</td>\n",
       "      <td>the grand seduction</td>\n",
       "      <td>don mckellar</td>\n",
       "      <td>brendan gleeson, taylor kitsch, gordon pinsent</td>\n",
       "      <td>canada</td>\n",
       "      <td>2021-03-30</td>\n",
       "      <td>2014</td>\n",
       "      <td>g</td>\n",
       "      <td>comedy, drama</td>\n",
       "      <td>a small fishing village must procure a local d...</td>\n",
       "      <td>113</td>\n",
       "      <td>min</td>\n",
       "      <td>3.467131</td>\n",
       "    </tr>\n",
       "    <tr>\n",
       "      <th>1</th>\n",
       "      <td>as2</td>\n",
       "      <td>movie</td>\n",
       "      <td>take care good night</td>\n",
       "      <td>girish joshi</td>\n",
       "      <td>mahesh manjrekar, abhay mahajan, sachin khedekar</td>\n",
       "      <td>india</td>\n",
       "      <td>2021-03-30</td>\n",
       "      <td>2018</td>\n",
       "      <td>13+</td>\n",
       "      <td>drama, international</td>\n",
       "      <td>a metro family decides to fight a cyber crimin...</td>\n",
       "      <td>110</td>\n",
       "      <td>min</td>\n",
       "      <td>3.548682</td>\n",
       "    </tr>\n",
       "  </tbody>\n",
       "</table>\n",
       "</div>"
      ],
      "text/plain": [
       "    id   type                 title      director  \\\n",
       "0  as1  movie   the grand seduction  don mckellar   \n",
       "1  as2  movie  take care good night  girish joshi   \n",
       "\n",
       "                                               cast country  date_added  \\\n",
       "0    brendan gleeson, taylor kitsch, gordon pinsent  canada  2021-03-30   \n",
       "1  mahesh manjrekar, abhay mahajan, sachin khedekar   india  2021-03-30   \n",
       "\n",
       "   release_year rating             listed_in  \\\n",
       "0          2014      g         comedy, drama   \n",
       "1          2018    13+  drama, international   \n",
       "\n",
       "                                         description  duration_int  \\\n",
       "0  a small fishing village must procure a local d...           113   \n",
       "1  a metro family decides to fight a cyber crimin...           110   \n",
       "\n",
       "  duration_type     score  \n",
       "0           min  3.467131  \n",
       "1           min  3.548682  "
      ]
     },
     "execution_count": 130,
     "metadata": {},
     "output_type": "execute_result"
    }
   ],
   "source": [
    "df.head(2)"
   ]
  },
  {
   "cell_type": "code",
   "execution_count": 131,
   "metadata": {},
   "outputs": [
    {
     "data": {
      "text/plain": [
       "0              brendan gleeson\n",
       "0                taylor kitsch\n",
       "0               gordon pinsent\n",
       "1             mahesh manjrekar\n",
       "1                abhay mahajan\n",
       "                 ...          \n",
       "22997         manish chaudhary\n",
       "22997             meghna malik\n",
       "22997            malkeet rauni\n",
       "22997           anita shabdish\n",
       "22997    chittaranjan tripathy\n",
       "Length: 114392, dtype: object"
      ]
     },
     "execution_count": 131,
     "metadata": {},
     "output_type": "execute_result"
    }
   ],
   "source": [
    "# La columna de reparto('cast') tiene el contenido de los actores asi que, decido separarlo y apilarlo. Queda añadido en una serie.\n",
    "cast_s = df[df['cast'] != 'Sin registro']['cast'].str.split(', ', expand=True).stack().reset_index(level=1, drop=True)\n",
    "cast_s"
   ]
  },
  {
   "cell_type": "code",
   "execution_count": 133,
   "metadata": {},
   "outputs": [
    {
     "data": {
      "text/html": [
       "<div>\n",
       "<style scoped>\n",
       "    .dataframe tbody tr th:only-of-type {\n",
       "        vertical-align: middle;\n",
       "    }\n",
       "\n",
       "    .dataframe tbody tr th {\n",
       "        vertical-align: top;\n",
       "    }\n",
       "\n",
       "    .dataframe thead th {\n",
       "        text-align: right;\n",
       "    }\n",
       "</style>\n",
       "<table border=\"1\" class=\"dataframe\">\n",
       "  <thead>\n",
       "    <tr style=\"text-align: right;\">\n",
       "      <th></th>\n",
       "      <th>id</th>\n",
       "      <th>type</th>\n",
       "      <th>title</th>\n",
       "      <th>director</th>\n",
       "      <th>country</th>\n",
       "      <th>date_added</th>\n",
       "      <th>release_year</th>\n",
       "      <th>rating</th>\n",
       "      <th>listed_in</th>\n",
       "      <th>description</th>\n",
       "      <th>duration_int</th>\n",
       "      <th>duration_type</th>\n",
       "      <th>score</th>\n",
       "      <th>actor</th>\n",
       "    </tr>\n",
       "  </thead>\n",
       "  <tbody>\n",
       "    <tr>\n",
       "      <th>0</th>\n",
       "      <td>as1</td>\n",
       "      <td>movie</td>\n",
       "      <td>the grand seduction</td>\n",
       "      <td>don mckellar</td>\n",
       "      <td>canada</td>\n",
       "      <td>2021-03-30</td>\n",
       "      <td>2014</td>\n",
       "      <td>g</td>\n",
       "      <td>comedy, drama</td>\n",
       "      <td>a small fishing village must procure a local d...</td>\n",
       "      <td>113</td>\n",
       "      <td>min</td>\n",
       "      <td>3.467131</td>\n",
       "      <td>brendan gleeson</td>\n",
       "    </tr>\n",
       "    <tr>\n",
       "      <th>1</th>\n",
       "      <td>as1</td>\n",
       "      <td>movie</td>\n",
       "      <td>the grand seduction</td>\n",
       "      <td>don mckellar</td>\n",
       "      <td>canada</td>\n",
       "      <td>2021-03-30</td>\n",
       "      <td>2014</td>\n",
       "      <td>g</td>\n",
       "      <td>comedy, drama</td>\n",
       "      <td>a small fishing village must procure a local d...</td>\n",
       "      <td>113</td>\n",
       "      <td>min</td>\n",
       "      <td>3.467131</td>\n",
       "      <td>taylor kitsch</td>\n",
       "    </tr>\n",
       "    <tr>\n",
       "      <th>2</th>\n",
       "      <td>as1</td>\n",
       "      <td>movie</td>\n",
       "      <td>the grand seduction</td>\n",
       "      <td>don mckellar</td>\n",
       "      <td>canada</td>\n",
       "      <td>2021-03-30</td>\n",
       "      <td>2014</td>\n",
       "      <td>g</td>\n",
       "      <td>comedy, drama</td>\n",
       "      <td>a small fishing village must procure a local d...</td>\n",
       "      <td>113</td>\n",
       "      <td>min</td>\n",
       "      <td>3.467131</td>\n",
       "      <td>gordon pinsent</td>\n",
       "    </tr>\n",
       "    <tr>\n",
       "      <th>3</th>\n",
       "      <td>as2</td>\n",
       "      <td>movie</td>\n",
       "      <td>take care good night</td>\n",
       "      <td>girish joshi</td>\n",
       "      <td>india</td>\n",
       "      <td>2021-03-30</td>\n",
       "      <td>2018</td>\n",
       "      <td>13+</td>\n",
       "      <td>drama, international</td>\n",
       "      <td>a metro family decides to fight a cyber crimin...</td>\n",
       "      <td>110</td>\n",
       "      <td>min</td>\n",
       "      <td>3.548682</td>\n",
       "      <td>mahesh manjrekar</td>\n",
       "    </tr>\n",
       "    <tr>\n",
       "      <th>4</th>\n",
       "      <td>as2</td>\n",
       "      <td>movie</td>\n",
       "      <td>take care good night</td>\n",
       "      <td>girish joshi</td>\n",
       "      <td>india</td>\n",
       "      <td>2021-03-30</td>\n",
       "      <td>2018</td>\n",
       "      <td>13+</td>\n",
       "      <td>drama, international</td>\n",
       "      <td>a metro family decides to fight a cyber crimin...</td>\n",
       "      <td>110</td>\n",
       "      <td>min</td>\n",
       "      <td>3.548682</td>\n",
       "      <td>abhay mahajan</td>\n",
       "    </tr>\n",
       "    <tr>\n",
       "      <th>...</th>\n",
       "      <td>...</td>\n",
       "      <td>...</td>\n",
       "      <td>...</td>\n",
       "      <td>...</td>\n",
       "      <td>...</td>\n",
       "      <td>...</td>\n",
       "      <td>...</td>\n",
       "      <td>...</td>\n",
       "      <td>...</td>\n",
       "      <td>...</td>\n",
       "      <td>...</td>\n",
       "      <td>...</td>\n",
       "      <td>...</td>\n",
       "      <td>...</td>\n",
       "    </tr>\n",
       "    <tr>\n",
       "      <th>114387</th>\n",
       "      <td>ns8807</td>\n",
       "      <td>movie</td>\n",
       "      <td>zubaan</td>\n",
       "      <td>mozez singh</td>\n",
       "      <td>india</td>\n",
       "      <td>2019-03-02</td>\n",
       "      <td>2015</td>\n",
       "      <td>tv-14</td>\n",
       "      <td>dramas, international movies, music &amp; musicals</td>\n",
       "      <td>a scrappy but poor boy worms his way into a ty...</td>\n",
       "      <td>111</td>\n",
       "      <td>min</td>\n",
       "      <td>3.529228</td>\n",
       "      <td>manish chaudhary</td>\n",
       "    </tr>\n",
       "    <tr>\n",
       "      <th>114388</th>\n",
       "      <td>ns8807</td>\n",
       "      <td>movie</td>\n",
       "      <td>zubaan</td>\n",
       "      <td>mozez singh</td>\n",
       "      <td>india</td>\n",
       "      <td>2019-03-02</td>\n",
       "      <td>2015</td>\n",
       "      <td>tv-14</td>\n",
       "      <td>dramas, international movies, music &amp; musicals</td>\n",
       "      <td>a scrappy but poor boy worms his way into a ty...</td>\n",
       "      <td>111</td>\n",
       "      <td>min</td>\n",
       "      <td>3.529228</td>\n",
       "      <td>meghna malik</td>\n",
       "    </tr>\n",
       "    <tr>\n",
       "      <th>114389</th>\n",
       "      <td>ns8807</td>\n",
       "      <td>movie</td>\n",
       "      <td>zubaan</td>\n",
       "      <td>mozez singh</td>\n",
       "      <td>india</td>\n",
       "      <td>2019-03-02</td>\n",
       "      <td>2015</td>\n",
       "      <td>tv-14</td>\n",
       "      <td>dramas, international movies, music &amp; musicals</td>\n",
       "      <td>a scrappy but poor boy worms his way into a ty...</td>\n",
       "      <td>111</td>\n",
       "      <td>min</td>\n",
       "      <td>3.529228</td>\n",
       "      <td>malkeet rauni</td>\n",
       "    </tr>\n",
       "    <tr>\n",
       "      <th>114390</th>\n",
       "      <td>ns8807</td>\n",
       "      <td>movie</td>\n",
       "      <td>zubaan</td>\n",
       "      <td>mozez singh</td>\n",
       "      <td>india</td>\n",
       "      <td>2019-03-02</td>\n",
       "      <td>2015</td>\n",
       "      <td>tv-14</td>\n",
       "      <td>dramas, international movies, music &amp; musicals</td>\n",
       "      <td>a scrappy but poor boy worms his way into a ty...</td>\n",
       "      <td>111</td>\n",
       "      <td>min</td>\n",
       "      <td>3.529228</td>\n",
       "      <td>anita shabdish</td>\n",
       "    </tr>\n",
       "    <tr>\n",
       "      <th>114391</th>\n",
       "      <td>ns8807</td>\n",
       "      <td>movie</td>\n",
       "      <td>zubaan</td>\n",
       "      <td>mozez singh</td>\n",
       "      <td>india</td>\n",
       "      <td>2019-03-02</td>\n",
       "      <td>2015</td>\n",
       "      <td>tv-14</td>\n",
       "      <td>dramas, international movies, music &amp; musicals</td>\n",
       "      <td>a scrappy but poor boy worms his way into a ty...</td>\n",
       "      <td>111</td>\n",
       "      <td>min</td>\n",
       "      <td>3.529228</td>\n",
       "      <td>chittaranjan tripathy</td>\n",
       "    </tr>\n",
       "  </tbody>\n",
       "</table>\n",
       "<p>114392 rows × 14 columns</p>\n",
       "</div>"
      ],
      "text/plain": [
       "            id   type                 title      director country  date_added  \\\n",
       "0          as1  movie   the grand seduction  don mckellar  canada  2021-03-30   \n",
       "1          as1  movie   the grand seduction  don mckellar  canada  2021-03-30   \n",
       "2          as1  movie   the grand seduction  don mckellar  canada  2021-03-30   \n",
       "3          as2  movie  take care good night  girish joshi   india  2021-03-30   \n",
       "4          as2  movie  take care good night  girish joshi   india  2021-03-30   \n",
       "...        ...    ...                   ...           ...     ...         ...   \n",
       "114387  ns8807  movie                zubaan   mozez singh   india  2019-03-02   \n",
       "114388  ns8807  movie                zubaan   mozez singh   india  2019-03-02   \n",
       "114389  ns8807  movie                zubaan   mozez singh   india  2019-03-02   \n",
       "114390  ns8807  movie                zubaan   mozez singh   india  2019-03-02   \n",
       "114391  ns8807  movie                zubaan   mozez singh   india  2019-03-02   \n",
       "\n",
       "        release_year rating                                       listed_in  \\\n",
       "0               2014      g                                   comedy, drama   \n",
       "1               2014      g                                   comedy, drama   \n",
       "2               2014      g                                   comedy, drama   \n",
       "3               2018    13+                            drama, international   \n",
       "4               2018    13+                            drama, international   \n",
       "...              ...    ...                                             ...   \n",
       "114387          2015  tv-14  dramas, international movies, music & musicals   \n",
       "114388          2015  tv-14  dramas, international movies, music & musicals   \n",
       "114389          2015  tv-14  dramas, international movies, music & musicals   \n",
       "114390          2015  tv-14  dramas, international movies, music & musicals   \n",
       "114391          2015  tv-14  dramas, international movies, music & musicals   \n",
       "\n",
       "                                              description  duration_int  \\\n",
       "0       a small fishing village must procure a local d...           113   \n",
       "1       a small fishing village must procure a local d...           113   \n",
       "2       a small fishing village must procure a local d...           113   \n",
       "3       a metro family decides to fight a cyber crimin...           110   \n",
       "4       a metro family decides to fight a cyber crimin...           110   \n",
       "...                                                   ...           ...   \n",
       "114387  a scrappy but poor boy worms his way into a ty...           111   \n",
       "114388  a scrappy but poor boy worms his way into a ty...           111   \n",
       "114389  a scrappy but poor boy worms his way into a ty...           111   \n",
       "114390  a scrappy but poor boy worms his way into a ty...           111   \n",
       "114391  a scrappy but poor boy worms his way into a ty...           111   \n",
       "\n",
       "       duration_type     score                  actor  \n",
       "0                min  3.467131        brendan gleeson  \n",
       "1                min  3.467131          taylor kitsch  \n",
       "2                min  3.467131         gordon pinsent  \n",
       "3                min  3.548682       mahesh manjrekar  \n",
       "4                min  3.548682          abhay mahajan  \n",
       "...              ...       ...                    ...  \n",
       "114387           min  3.529228       manish chaudhary  \n",
       "114388           min  3.529228           meghna malik  \n",
       "114389           min  3.529228          malkeet rauni  \n",
       "114390           min  3.529228         anita shabdish  \n",
       "114391           min  3.529228  chittaranjan tripathy  \n",
       "\n",
       "[114392 rows x 14 columns]"
      ]
     },
     "execution_count": 133,
     "metadata": {},
     "output_type": "execute_result"
    }
   ],
   "source": [
    "#Teniendo a los actores en una serie ('cast_s') lo unifico al dataset primario('df':: moviescores). Los unifico considerando la igualdad de los indices y me deshago de la columna 'cast' como vuelvo a resetear el indice(a mi gusto). El nuevo datarset seria cast_df y con ese se podria realizar la consulta indicada.\n",
    "cast_df=df.merge(cast_s.rename('actor'), left_index=True, right_index=True).reset_index(drop=True).drop(columns=['cast'])\n",
    "cast_df"
   ]
  },
  {
   "cell_type": "code",
   "execution_count": 134,
   "metadata": {},
   "outputs": [
    {
     "data": {
      "text/html": [
       "<div>\n",
       "<style scoped>\n",
       "    .dataframe tbody tr th:only-of-type {\n",
       "        vertical-align: middle;\n",
       "    }\n",
       "\n",
       "    .dataframe tbody tr th {\n",
       "        vertical-align: top;\n",
       "    }\n",
       "\n",
       "    .dataframe thead th {\n",
       "        text-align: right;\n",
       "    }\n",
       "</style>\n",
       "<table border=\"1\" class=\"dataframe\">\n",
       "  <thead>\n",
       "    <tr style=\"text-align: right;\">\n",
       "      <th></th>\n",
       "      <th>actor</th>\n",
       "      <th>apparitions</th>\n",
       "    </tr>\n",
       "  </thead>\n",
       "  <tbody>\n",
       "    <tr>\n",
       "      <th>0</th>\n",
       "      <td>tom kane</td>\n",
       "      <td>6</td>\n",
       "    </tr>\n",
       "  </tbody>\n",
       "</table>\n",
       "</div>"
      ],
      "text/plain": [
       "      actor  apparitions\n",
       "0  tom kane            6"
      ]
     },
     "execution_count": 134,
     "metadata": {},
     "output_type": "execute_result"
    }
   ],
   "source": [
    "#Consulta que considera los parámetros de plataforma y año. Decido llamar al actor y la cantidad de veces que aparecería('apparitions') agrupado por el actor y en orden descendente la cantidad de veces que aparece. Limitando solo 1 para agarrar el que mas apariciones ha tenido.\n",
    "plat='d%'\n",
    "year=2014\n",
    "dk.query(f\"\"\"SELECT actor ,count(*) as apparitions FROM cast_df WHERE id LIKE '{plat}' AND release_year='{year}' GROUP BY \"actor\" ORDER BY apparitions DESC LIMIT 1\"\"\").df()"
   ]
  },
  {
   "cell_type": "code",
   "execution_count": 144,
   "metadata": {},
   "outputs": [],
   "source": [
    "def get_actor(platform: str, year: int):\n",
    "    #Lectura de la base de datos:\n",
    "    df = pd.read_csv(\"datasets\\moviescores.csv\", sep=';')\n",
    "    \n",
    "    #Separo los actores apilandolos en una serie con el id.\n",
    "    cast_s = df[df['cast'] != 'Sin registro']['cast'].str.split(', ', expand=True).stack().reset_index(level=1, drop=True)\n",
    "\n",
    "    #Junto la columna 'actor' con el dataframe primario.\n",
    "    cast_df=df.merge(cast_s.rename('actor'), left_index=True, right_index=True).reset_index(drop=True).drop(columns=['cast'])\n",
    "    cast_df\n",
    "    \n",
    "    #Defino las plataformas:\n",
    "    if platform == \"amazon\":\n",
    "        plat = \"a%\"\n",
    "    elif platform == \"disney\":\n",
    "        plat = \"d%\"\n",
    "    elif platform == \"hulu\":\n",
    "        plat = \"h%\"\n",
    "    elif platform == \"netflix\":\n",
    "        plat = \"n%\"\n",
    "    else:\n",
    "        return (\"Plataforma incorrecta. Las opciones son: amazon, disney, hulu, netflix. En minúsculas, respectivamente.\")\n",
    "    \n",
    "    # QUERY\n",
    "    result = dk.query(f\"\"\"SELECT actor ,count(*) as apparitions FROM cast_df WHERE id LIKE '{plat}' AND release_year='{year}' GROUP BY \"actor\" ORDER BY apparitions DESC LIMIT 1\"\"\").df()\n",
    "    \n",
    "    if not result.iloc[0,0] == 0:\n",
    "        return result.to_dict() #retorna los datos solicitados en la consulta, como un diccionario.\n",
    "    #Si la variable no tiene contenido:\n",
    "    else:\n",
    "        return (\"No hay un actor registrado, en esa plataforma con el año indicado.\")"
   ]
  },
  {
   "cell_type": "code",
   "execution_count": 143,
   "metadata": {},
   "outputs": [
    {
     "data": {
      "text/plain": [
       "{'actor': {0: 'anne-marie newland'}, 'apparitions': {0: 12}}"
      ]
     },
     "execution_count": 143,
     "metadata": {},
     "output_type": "execute_result"
    }
   ],
   "source": [
    "get_actor('amazon',2016)"
   ]
  }
 ],
 "metadata": {
  "kernelspec": {
   "display_name": "Python 3",
   "language": "python",
   "name": "python3"
  },
  "language_info": {
   "codemirror_mode": {
    "name": "ipython",
    "version": 3
   },
   "file_extension": ".py",
   "mimetype": "text/x-python",
   "name": "python",
   "nbconvert_exporter": "python",
   "pygments_lexer": "ipython3",
   "version": "3.10.10"
  },
  "orig_nbformat": 4,
  "vscode": {
   "interpreter": {
    "hash": "b5e6b52804f74d2d337675a57a98d7c0444204d0ab697dc9c806eee3f2bcf05c"
   }
  }
 },
 "nbformat": 4,
 "nbformat_minor": 2
}
