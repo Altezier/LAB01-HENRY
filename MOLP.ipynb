{
 "cells": [
  {
   "cell_type": "code",
   "execution_count": null,
   "metadata": {},
   "outputs": [],
   "source": [
    "us_dt.head()"
   ]
  },
  {
   "cell_type": "code",
   "execution_count": null,
   "metadata": {},
   "outputs": [],
   "source": [
    "platf_dt.head()"
   ]
  },
  {
   "cell_type": "code",
   "execution_count": null,
   "metadata": {},
   "outputs": [],
   "source": [
    "# Aqui dropeo descripcion, valores de type que esan TV shows, y aquellos que tengan seasons por si acaso no fuesen a corresponder.\n",
    "platf_dt= platf_dt.drop(columns=['description'], axis=1)\n",
    "platf_dt.drop(platf_dt[platf_dt['type']=='tv show'].index, inplace=True)"
   ]
  },
  {
   "cell_type": "code",
   "execution_count": null,
   "metadata": {},
   "outputs": [],
   "source": [
    "#Para este caso decido utilizar minmaxscaler, igualmente aquí no se termina de aplicar mejor una vez durante el modelado.\n",
    "from sklearn.preprocessing import MinMaxScaler"
   ]
  },
  {
   "cell_type": "code",
   "execution_count": null,
   "metadata": {},
   "outputs": [],
   "source": [
    "data= platf_dt[platf_dt['duration_type'] == 'min']\n",
    "plt.hist(data['duration_int'])\n",
    "plt.show()"
   ]
  },
  {
   "cell_type": "code",
   "execution_count": null,
   "metadata": {},
   "outputs": [],
   "source": [
    "scaler = MinMaxScaler()\n",
    "scaler.fit(platf_dt[['duration_int']])\n",
    "platf_dt['duration_int'] = scaler.transform(platf_dt[['duration_int']])"
   ]
  },
  {
   "cell_type": "code",
   "execution_count": null,
   "metadata": {},
   "outputs": [],
   "source": [
    "plt.hist(platf_dt['duration_int'])\n",
    "plt.show()"
   ]
  },
  {
   "cell_type": "code",
   "execution_count": null,
   "metadata": {},
   "outputs": [],
   "source": [
    " corr = platf_dt.corr()\n",
    " plot_corre_heatmap(corr)"
   ]
  },
  {
   "cell_type": "code",
   "execution_count": null,
   "metadata": {},
   "outputs": [],
   "source": [
    "# codificacion de variables categoricas para aquellas categoricas. Por ejemplo. listed_in\n",
    "platf_dt.head()"
   ]
  },
  {
   "cell_type": "code",
   "execution_count": null,
   "metadata": {},
   "outputs": [],
   "source": [
    "# Para este apartado quiero creer que se podrian agarrar la columna tal cual, sino igualmente lo separaria afiliando las distintas catalogaciones a cada pelicula repitiendo el indice 'id'\n",
    "platf_dt.listed_in.value_counts()"
   ]
  }
 ],
 "metadata": {
  "kernelspec": {
   "display_name": "Python 3",
   "language": "python",
   "name": "python3"
  },
  "language_info": {
   "name": "python",
   "version": "3.10.10"
  },
  "orig_nbformat": 4,
  "vscode": {
   "interpreter": {
    "hash": "b5e6b52804f74d2d337675a57a98d7c0444204d0ab697dc9c806eee3f2bcf05c"
   }
  }
 },
 "nbformat": 4,
 "nbformat_minor": 2
}
