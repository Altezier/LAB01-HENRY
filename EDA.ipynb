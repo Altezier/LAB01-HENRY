{
 "cells": [
  {
   "attachments": {},
   "cell_type": "markdown",
   "metadata": {},
   "source": [
    "## EDA"
   ]
  },
  {
   "cell_type": "code",
   "execution_count": 27,
   "metadata": {},
   "outputs": [],
   "source": [
    "#Importación de las librerías\n",
    "import pandas as pd \n",
    "import numpy as np\n",
    "import seaborn as sns\n",
    "import matplotlib.pyplot as plt"
   ]
  },
  {
   "attachments": {},
   "cell_type": "markdown",
   "metadata": {},
   "source": [
    "Recompilación y carga de datos"
   ]
  },
  {
   "cell_type": "code",
   "execution_count": 28,
   "metadata": {},
   "outputs": [],
   "source": [
    "#Extraigo los dat un poco arreglados\n",
    "us_dt= pd.read_csv(\"datasets/rating_users.csv\", sep=';')\n",
    "platf_dt=pd.read_csv(\"datasets/platformdata.csv\", sep=';')"
   ]
  },
  {
   "cell_type": "code",
   "execution_count": 29,
   "metadata": {},
   "outputs": [
    {
     "name": "stdout",
     "output_type": "stream",
     "text": [
      "<class 'pandas.core.frame.DataFrame'>\n",
      "RangeIndex: 22998 entries, 0 to 22997\n",
      "Data columns (total 14 columns):\n",
      " #   Column         Non-Null Count  Dtype  \n",
      "---  ------         --------------  -----  \n",
      " 0   id             22998 non-null  object \n",
      " 1   type           22998 non-null  object \n",
      " 2   title          22998 non-null  object \n",
      " 3   director       14739 non-null  object \n",
      " 4   cast           17677 non-null  object \n",
      " 5   country        11499 non-null  object \n",
      " 6   date_added     13444 non-null  object \n",
      " 7   release_year   22998 non-null  int64  \n",
      " 8   rating         22998 non-null  object \n",
      " 9   listed_in      22998 non-null  object \n",
      " 10  description    22994 non-null  object \n",
      " 11  duration_int   22516 non-null  float64\n",
      " 12  duration_type  22516 non-null  object \n",
      " 13  score          22998 non-null  float64\n",
      "dtypes: float64(2), int64(1), object(11)\n",
      "memory usage: 2.5+ MB\n"
     ]
    }
   ],
   "source": [
    "platf_dt.info()"
   ]
  },
  {
   "cell_type": "code",
   "execution_count": 30,
   "metadata": {},
   "outputs": [
    {
     "name": "stdout",
     "output_type": "stream",
     "text": [
      "<class 'pandas.core.frame.DataFrame'>\n",
      "RangeIndex: 11024289 entries, 0 to 11024288\n",
      "Data columns (total 4 columns):\n",
      " #   Column     Dtype  \n",
      "---  ------     -----  \n",
      " 0   userId     int64  \n",
      " 1   rating     float64\n",
      " 2   timestamp  object \n",
      " 3   movieId    object \n",
      "dtypes: float64(1), int64(1), object(2)\n",
      "memory usage: 336.4+ MB\n"
     ]
    }
   ],
   "source": [
    "us_dt.info()"
   ]
  },
  {
   "cell_type": "code",
   "execution_count": 31,
   "metadata": {},
   "outputs": [
    {
     "data": {
      "text/html": [
       "<div>\n",
       "<style scoped>\n",
       "    .dataframe tbody tr th:only-of-type {\n",
       "        vertical-align: middle;\n",
       "    }\n",
       "\n",
       "    .dataframe tbody tr th {\n",
       "        vertical-align: top;\n",
       "    }\n",
       "\n",
       "    .dataframe thead th {\n",
       "        text-align: right;\n",
       "    }\n",
       "</style>\n",
       "<table border=\"1\" class=\"dataframe\">\n",
       "  <thead>\n",
       "    <tr style=\"text-align: right;\">\n",
       "      <th></th>\n",
       "      <th>userId</th>\n",
       "      <th>rating</th>\n",
       "      <th>timestamp</th>\n",
       "      <th>movieId</th>\n",
       "    </tr>\n",
       "  </thead>\n",
       "  <tbody>\n",
       "    <tr>\n",
       "      <th>2232</th>\n",
       "      <td>24</td>\n",
       "      <td>3.0</td>\n",
       "      <td>2001-01-20</td>\n",
       "      <td>hs963</td>\n",
       "    </tr>\n",
       "    <tr>\n",
       "      <th>2289</th>\n",
       "      <td>24</td>\n",
       "      <td>3.0</td>\n",
       "      <td>2001-01-20</td>\n",
       "      <td>as6216</td>\n",
       "    </tr>\n",
       "    <tr>\n",
       "      <th>2290</th>\n",
       "      <td>24</td>\n",
       "      <td>2.0</td>\n",
       "      <td>2001-01-19</td>\n",
       "      <td>as2674</td>\n",
       "    </tr>\n",
       "    <tr>\n",
       "      <th>3638</th>\n",
       "      <td>43</td>\n",
       "      <td>3.5</td>\n",
       "      <td>2007-05-15</td>\n",
       "      <td>ns8019</td>\n",
       "    </tr>\n",
       "    <tr>\n",
       "      <th>4696</th>\n",
       "      <td>47</td>\n",
       "      <td>4.0</td>\n",
       "      <td>2000-10-02</td>\n",
       "      <td>hs70</td>\n",
       "    </tr>\n",
       "    <tr>\n",
       "      <th>...</th>\n",
       "      <td>...</td>\n",
       "      <td>...</td>\n",
       "      <td>...</td>\n",
       "      <td>...</td>\n",
       "    </tr>\n",
       "    <tr>\n",
       "      <th>11021476</th>\n",
       "      <td>124325</td>\n",
       "      <td>0.5</td>\n",
       "      <td>2017-03-27</td>\n",
       "      <td>ns8754</td>\n",
       "    </tr>\n",
       "    <tr>\n",
       "      <th>11021637</th>\n",
       "      <td>124325</td>\n",
       "      <td>0.5</td>\n",
       "      <td>2017-03-27</td>\n",
       "      <td>ns7021</td>\n",
       "    </tr>\n",
       "    <tr>\n",
       "      <th>11021743</th>\n",
       "      <td>124325</td>\n",
       "      <td>3.5</td>\n",
       "      <td>2017-03-27</td>\n",
       "      <td>hs2760</td>\n",
       "    </tr>\n",
       "    <tr>\n",
       "      <th>11021766</th>\n",
       "      <td>124325</td>\n",
       "      <td>0.5</td>\n",
       "      <td>2017-03-27</td>\n",
       "      <td>ns4902</td>\n",
       "    </tr>\n",
       "    <tr>\n",
       "      <th>11021826</th>\n",
       "      <td>124325</td>\n",
       "      <td>0.5</td>\n",
       "      <td>2017-03-27</td>\n",
       "      <td>ns1722</td>\n",
       "    </tr>\n",
       "  </tbody>\n",
       "</table>\n",
       "<p>10466 rows × 4 columns</p>\n",
       "</div>"
      ],
      "text/plain": [
       "          userId  rating   timestamp movieId\n",
       "2232          24     3.0  2001-01-20   hs963\n",
       "2289          24     3.0  2001-01-20  as6216\n",
       "2290          24     2.0  2001-01-19  as2674\n",
       "3638          43     3.5  2007-05-15  ns8019\n",
       "4696          47     4.0  2000-10-02    hs70\n",
       "...          ...     ...         ...     ...\n",
       "11021476  124325     0.5  2017-03-27  ns8754\n",
       "11021637  124325     0.5  2017-03-27  ns7021\n",
       "11021743  124325     3.5  2017-03-27  hs2760\n",
       "11021766  124325     0.5  2017-03-27  ns4902\n",
       "11021826  124325     0.5  2017-03-27  ns1722\n",
       "\n",
       "[10466 rows x 4 columns]"
      ]
     },
     "execution_count": 31,
     "metadata": {},
     "output_type": "execute_result"
    }
   ],
   "source": [
    "#Considerando que son calificaciones registros de score es normal los repetidos\n",
    "us_dt[us_dt.duplicated()]"
   ]
  },
  {
   "cell_type": "code",
   "execution_count": 35,
   "metadata": {},
   "outputs": [
    {
     "data": {
      "text/html": [
       "<div>\n",
       "<style scoped>\n",
       "    .dataframe tbody tr th:only-of-type {\n",
       "        vertical-align: middle;\n",
       "    }\n",
       "\n",
       "    .dataframe tbody tr th {\n",
       "        vertical-align: top;\n",
       "    }\n",
       "\n",
       "    .dataframe thead th {\n",
       "        text-align: right;\n",
       "    }\n",
       "</style>\n",
       "<table border=\"1\" class=\"dataframe\">\n",
       "  <thead>\n",
       "    <tr style=\"text-align: right;\">\n",
       "      <th></th>\n",
       "      <th>userId</th>\n",
       "      <th>rating</th>\n",
       "      <th>timestamp</th>\n",
       "      <th>movieId</th>\n",
       "    </tr>\n",
       "  </thead>\n",
       "  <tbody>\n",
       "    <tr>\n",
       "      <th>2014</th>\n",
       "      <td>24</td>\n",
       "      <td>3.0</td>\n",
       "      <td>2001-01-20</td>\n",
       "      <td>hs963</td>\n",
       "    </tr>\n",
       "    <tr>\n",
       "      <th>2232</th>\n",
       "      <td>24</td>\n",
       "      <td>3.0</td>\n",
       "      <td>2001-01-20</td>\n",
       "      <td>hs963</td>\n",
       "    </tr>\n",
       "  </tbody>\n",
       "</table>\n",
       "</div>"
      ],
      "text/plain": [
       "      userId  rating   timestamp movieId\n",
       "2014      24     3.0  2001-01-20   hs963\n",
       "2232      24     3.0  2001-01-20   hs963"
      ]
     },
     "execution_count": 35,
     "metadata": {},
     "output_type": "execute_result"
    }
   ],
   "source": [
    "us_dt[(us_dt.userId == 24) & (us_dt.movieId == 'hs963')]"
   ]
  },
  {
   "cell_type": "code",
   "execution_count": 10,
   "metadata": {},
   "outputs": [
    {
     "data": {
      "text/html": [
       "<div>\n",
       "<style scoped>\n",
       "    .dataframe tbody tr th:only-of-type {\n",
       "        vertical-align: middle;\n",
       "    }\n",
       "\n",
       "    .dataframe tbody tr th {\n",
       "        vertical-align: top;\n",
       "    }\n",
       "\n",
       "    .dataframe thead th {\n",
       "        text-align: right;\n",
       "    }\n",
       "</style>\n",
       "<table border=\"1\" class=\"dataframe\">\n",
       "  <thead>\n",
       "    <tr style=\"text-align: right;\">\n",
       "      <th></th>\n",
       "      <th>id</th>\n",
       "      <th>type</th>\n",
       "      <th>title</th>\n",
       "      <th>director</th>\n",
       "      <th>cast</th>\n",
       "      <th>country</th>\n",
       "      <th>date_added</th>\n",
       "      <th>release_year</th>\n",
       "      <th>rating</th>\n",
       "      <th>listed_in</th>\n",
       "      <th>description</th>\n",
       "      <th>duration_int</th>\n",
       "      <th>duration_type</th>\n",
       "      <th>score</th>\n",
       "    </tr>\n",
       "  </thead>\n",
       "  <tbody>\n",
       "  </tbody>\n",
       "</table>\n",
       "</div>"
      ],
      "text/plain": [
       "Empty DataFrame\n",
       "Columns: [id, type, title, director, cast, country, date_added, release_year, rating, listed_in, description, duration_int, duration_type, score]\n",
       "Index: []"
      ]
     },
     "execution_count": 10,
     "metadata": {},
     "output_type": "execute_result"
    }
   ],
   "source": [
    "platf_dt[platf_dt.duplicated()]"
   ]
  },
  {
   "cell_type": "code",
   "execution_count": 24,
   "metadata": {},
   "outputs": [
    {
     "data": {
      "text/plain": [
       "129089"
      ]
     },
     "execution_count": 24,
     "metadata": {},
     "output_type": "execute_result"
    }
   ],
   "source": [
    "#Para poder ver si efectivamente hay repetidos juntare el userId Y moviesId\n",
    "us_dt['aux'] = us_dt['userId'].astype('str') + us_dt['movieId']\n",
    "us_dt['aux'].duplicated().sum()\n"
   ]
  },
  {
   "cell_type": "code",
   "execution_count": 36,
   "metadata": {},
   "outputs": [],
   "source": [
    "us_dt.drop_duplicates(inplace=True)"
   ]
  },
  {
   "cell_type": "code",
   "execution_count": 109,
   "metadata": {},
   "outputs": [
    {
     "data": {
      "text/plain": [
       "userId       0\n",
       "rating       0\n",
       "timestamp    0\n",
       "movieId      0\n",
       "dtype: int64"
      ]
     },
     "execution_count": 109,
     "metadata": {},
     "output_type": "execute_result"
    }
   ],
   "source": [
    "# Reviso los vacíos.\n",
    "us_dt.isnull().sum()"
   ]
  },
  {
   "cell_type": "code",
   "execution_count": 110,
   "metadata": {},
   "outputs": [
    {
     "data": {
      "text/plain": [
       "id                   0\n",
       "type                 0\n",
       "title                0\n",
       "director          8259\n",
       "cast              5321\n",
       "country          11499\n",
       "date_added        9554\n",
       "release_year         0\n",
       "rating               0\n",
       "listed_in            0\n",
       "description          4\n",
       "duration_int       482\n",
       "duration_type      482\n",
       "score                0\n",
       "dtype: int64"
      ]
     },
     "execution_count": 110,
     "metadata": {},
     "output_type": "execute_result"
    }
   ],
   "source": [
    "platf_dt.isnull().sum()"
   ]
  },
  {
   "attachments": {},
   "cell_type": "markdown",
   "metadata": {},
   "source": [
    "Ver el porcentaje de valores faltantes en 'director','cast','country','date_added','duration_int','duration_type'. No considero descripción por que el valor de vacíos es ínfimo en comparación sin considerar que para el modelo ya luego no seria util(la columna  como tal)."
   ]
  },
  {
   "cell_type": "code",
   "execution_count": 111,
   "metadata": {},
   "outputs": [
    {
     "name": "stdout",
     "output_type": "stream",
     "text": [
      "Porcentaje de valores faltantes de la variable director: 35.91181841899296\n"
     ]
    }
   ],
   "source": [
    "print('Porcentaje de valores faltantes de la variable director:', (platf_dt['director'].isnull().sum()/len(platf_dt)) * 100)"
   ]
  },
  {
   "cell_type": "code",
   "execution_count": 112,
   "metadata": {},
   "outputs": [
    {
     "name": "stdout",
     "output_type": "stream",
     "text": [
      "Porcentaje de valores faltantes de la variable cast: 23.1367945038699\n"
     ]
    }
   ],
   "source": [
    "print('Porcentaje de valores faltantes de la variable cast:', (platf_dt['cast'].isnull().sum()/len(platf_dt)) * 100)"
   ]
  },
  {
   "cell_type": "code",
   "execution_count": 113,
   "metadata": {},
   "outputs": [
    {
     "name": "stdout",
     "output_type": "stream",
     "text": [
      "Porcentaje de valores faltantes de la variable country: 50.0\n"
     ]
    }
   ],
   "source": [
    "print('Porcentaje de valores faltantes de la variable country:', (platf_dt['country'].isnull().sum()/len(platf_dt)) * 100)"
   ]
  },
  {
   "cell_type": "code",
   "execution_count": 114,
   "metadata": {},
   "outputs": [
    {
     "name": "stdout",
     "output_type": "stream",
     "text": [
      "Porcentaje de valores faltantes de la variable date_added: 41.5427428472041\n"
     ]
    }
   ],
   "source": [
    "#\n",
    "print('Porcentaje de valores faltantes de la variable date_added:', (platf_dt['date_added'].isnull().sum()/len(platf_dt)) * 100) "
   ]
  },
  {
   "cell_type": "code",
   "execution_count": 115,
   "metadata": {},
   "outputs": [
    {
     "name": "stdout",
     "output_type": "stream",
     "text": [
      "Porcentaje de valores faltantes de la variable duration_int: 2.0958344203843815\n"
     ]
    }
   ],
   "source": [
    "#Este es igual al correspondiente a duration_type por que provienen de una misma columna.\n",
    "print('Porcentaje de valores faltantes de la variable duration_int:', (platf_dt['duration_int'].isnull().sum()/len(platf_dt)) * 100)"
   ]
  },
  {
   "cell_type": "code",
   "execution_count": 116,
   "metadata": {},
   "outputs": [
    {
     "data": {
      "image/png": "[encoded data removed]",
      "text/plain": [
       "<Figure size 640x480 with 1 Axes>"
      ]
     },
     "metadata": {},
     "output_type": "display_data"
    }
   ],
   "source": [
    "sns.histplot(x ='duration_int', data= platf_dt, kde = True)\n",
    "plt.show()"
   ]
  },
  {
   "cell_type": "code",
   "execution_count": 117,
   "metadata": {},
   "outputs": [],
   "source": [
    "#Este ultimo es muy ínfimo habría que imputar valores en los vacíos."
   ]
  },
  {
   "attachments": {},
   "cell_type": "markdown",
   "metadata": {},
   "source": [
    "Limpieza de datos"
   ]
  },
  {
   "cell_type": "code",
   "execution_count": 118,
   "metadata": {},
   "outputs": [
    {
     "data": {
      "text/html": [
       "<div>\n",
       "<style scoped>\n",
       "    .dataframe tbody tr th:only-of-type {\n",
       "        vertical-align: middle;\n",
       "    }\n",
       "\n",
       "    .dataframe tbody tr th {\n",
       "        vertical-align: top;\n",
       "    }\n",
       "\n",
       "    .dataframe thead th {\n",
       "        text-align: right;\n",
       "    }\n",
       "</style>\n",
       "<table border=\"1\" class=\"dataframe\">\n",
       "  <thead>\n",
       "    <tr style=\"text-align: right;\">\n",
       "      <th></th>\n",
       "      <th>id</th>\n",
       "      <th>type</th>\n",
       "      <th>title</th>\n",
       "      <th>director</th>\n",
       "      <th>cast</th>\n",
       "      <th>country</th>\n",
       "      <th>date_added</th>\n",
       "      <th>release_year</th>\n",
       "      <th>rating</th>\n",
       "      <th>listed_in</th>\n",
       "      <th>description</th>\n",
       "      <th>duration_int</th>\n",
       "      <th>duration_type</th>\n",
       "      <th>score</th>\n",
       "    </tr>\n",
       "  </thead>\n",
       "  <tbody>\n",
       "    <tr>\n",
       "      <th>0</th>\n",
       "      <td>as1</td>\n",
       "      <td>movie</td>\n",
       "      <td>the grand seduction</td>\n",
       "      <td>don mckellar</td>\n",
       "      <td>brendan gleeson, taylor kitsch, gordon pinsent</td>\n",
       "      <td>canada</td>\n",
       "      <td>2021-03-30</td>\n",
       "      <td>2014</td>\n",
       "      <td>g</td>\n",
       "      <td>comedy, drama</td>\n",
       "      <td>a small fishing village must procure a local d...</td>\n",
       "      <td>113.0</td>\n",
       "      <td>min</td>\n",
       "      <td>3.467131</td>\n",
       "    </tr>\n",
       "    <tr>\n",
       "      <th>1</th>\n",
       "      <td>as2</td>\n",
       "      <td>movie</td>\n",
       "      <td>take care good night</td>\n",
       "      <td>girish joshi</td>\n",
       "      <td>mahesh manjrekar, abhay mahajan, sachin khedekar</td>\n",
       "      <td>india</td>\n",
       "      <td>2021-03-30</td>\n",
       "      <td>2018</td>\n",
       "      <td>13+</td>\n",
       "      <td>drama, international</td>\n",
       "      <td>a metro family decides to fight a cyber crimin...</td>\n",
       "      <td>110.0</td>\n",
       "      <td>min</td>\n",
       "      <td>3.548682</td>\n",
       "    </tr>\n",
       "    <tr>\n",
       "      <th>2</th>\n",
       "      <td>as3</td>\n",
       "      <td>movie</td>\n",
       "      <td>secrets of deception</td>\n",
       "      <td>josh webber</td>\n",
       "      <td>tom sizemore, lorenzo lamas, robert lasardo, r...</td>\n",
       "      <td>united states</td>\n",
       "      <td>2021-03-30</td>\n",
       "      <td>2017</td>\n",
       "      <td>g</td>\n",
       "      <td>action, drama, suspense</td>\n",
       "      <td>after a man discovers his wife is cheating on ...</td>\n",
       "      <td>74.0</td>\n",
       "      <td>min</td>\n",
       "      <td>3.500000</td>\n",
       "    </tr>\n",
       "    <tr>\n",
       "      <th>3</th>\n",
       "      <td>as4</td>\n",
       "      <td>movie</td>\n",
       "      <td>pink: staying true</td>\n",
       "      <td>sonia anderson</td>\n",
       "      <td>interviews with: pink, adele, beyoncé, britney...</td>\n",
       "      <td>united states</td>\n",
       "      <td>2021-03-30</td>\n",
       "      <td>2014</td>\n",
       "      <td>g</td>\n",
       "      <td>documentary</td>\n",
       "      <td>pink breaks the mold once again, bringing her ...</td>\n",
       "      <td>69.0</td>\n",
       "      <td>min</td>\n",
       "      <td>3.538055</td>\n",
       "    </tr>\n",
       "    <tr>\n",
       "      <th>4</th>\n",
       "      <td>as5</td>\n",
       "      <td>movie</td>\n",
       "      <td>monster maker</td>\n",
       "      <td>giles foster</td>\n",
       "      <td>harry dean stanton, kieran o'brien, george cos...</td>\n",
       "      <td>united kingdom</td>\n",
       "      <td>2021-03-30</td>\n",
       "      <td>1989</td>\n",
       "      <td>g</td>\n",
       "      <td>drama, fantasy</td>\n",
       "      <td>teenage matt banting wants to work with a famo...</td>\n",
       "      <td>45.0</td>\n",
       "      <td>min</td>\n",
       "      <td>3.478992</td>\n",
       "    </tr>\n",
       "    <tr>\n",
       "      <th>...</th>\n",
       "      <td>...</td>\n",
       "      <td>...</td>\n",
       "      <td>...</td>\n",
       "      <td>...</td>\n",
       "      <td>...</td>\n",
       "      <td>...</td>\n",
       "      <td>...</td>\n",
       "      <td>...</td>\n",
       "      <td>...</td>\n",
       "      <td>...</td>\n",
       "      <td>...</td>\n",
       "      <td>...</td>\n",
       "      <td>...</td>\n",
       "      <td>...</td>\n",
       "    </tr>\n",
       "    <tr>\n",
       "      <th>22993</th>\n",
       "      <td>ns8803</td>\n",
       "      <td>movie</td>\n",
       "      <td>zodiac</td>\n",
       "      <td>david fincher</td>\n",
       "      <td>mark ruffalo, jake gyllenhaal, robert downey j...</td>\n",
       "      <td>united states</td>\n",
       "      <td>2019-11-20</td>\n",
       "      <td>2007</td>\n",
       "      <td>r</td>\n",
       "      <td>cult movies, dramas, thrillers</td>\n",
       "      <td>a political cartoonist, a crime reporter and a...</td>\n",
       "      <td>158.0</td>\n",
       "      <td>min</td>\n",
       "      <td>3.438998</td>\n",
       "    </tr>\n",
       "    <tr>\n",
       "      <th>22994</th>\n",
       "      <td>ns8804</td>\n",
       "      <td>tv show</td>\n",
       "      <td>zombie dumb</td>\n",
       "      <td>NaN</td>\n",
       "      <td>NaN</td>\n",
       "      <td>NaN</td>\n",
       "      <td>2019-07-01</td>\n",
       "      <td>2018</td>\n",
       "      <td>tv-y7</td>\n",
       "      <td>kids' tv, korean tv shows, tv comedies</td>\n",
       "      <td>while living alone in a spooky town, a young g...</td>\n",
       "      <td>2.0</td>\n",
       "      <td>seasons</td>\n",
       "      <td>3.515947</td>\n",
       "    </tr>\n",
       "    <tr>\n",
       "      <th>22995</th>\n",
       "      <td>ns8805</td>\n",
       "      <td>movie</td>\n",
       "      <td>zombieland</td>\n",
       "      <td>ruben fleischer</td>\n",
       "      <td>jesse eisenberg, woody harrelson, emma stone, ...</td>\n",
       "      <td>united states</td>\n",
       "      <td>2019-11-01</td>\n",
       "      <td>2009</td>\n",
       "      <td>r</td>\n",
       "      <td>comedies, horror movies</td>\n",
       "      <td>looking to survive in a world taken over by zo...</td>\n",
       "      <td>88.0</td>\n",
       "      <td>min</td>\n",
       "      <td>3.420945</td>\n",
       "    </tr>\n",
       "    <tr>\n",
       "      <th>22996</th>\n",
       "      <td>ns8806</td>\n",
       "      <td>movie</td>\n",
       "      <td>zoom</td>\n",
       "      <td>peter hewitt</td>\n",
       "      <td>tim allen, courteney cox, chevy chase, kate ma...</td>\n",
       "      <td>united states</td>\n",
       "      <td>2020-01-11</td>\n",
       "      <td>2006</td>\n",
       "      <td>pg</td>\n",
       "      <td>children &amp; family movies, comedies</td>\n",
       "      <td>dragged from civilian life, a former superhero...</td>\n",
       "      <td>88.0</td>\n",
       "      <td>min</td>\n",
       "      <td>3.588050</td>\n",
       "    </tr>\n",
       "    <tr>\n",
       "      <th>22997</th>\n",
       "      <td>ns8807</td>\n",
       "      <td>movie</td>\n",
       "      <td>zubaan</td>\n",
       "      <td>mozez singh</td>\n",
       "      <td>vicky kaushal, sarah-jane dias, raaghav chanan...</td>\n",
       "      <td>india</td>\n",
       "      <td>2019-03-02</td>\n",
       "      <td>2015</td>\n",
       "      <td>tv-14</td>\n",
       "      <td>dramas, international movies, music &amp; musicals</td>\n",
       "      <td>a scrappy but poor boy worms his way into a ty...</td>\n",
       "      <td>111.0</td>\n",
       "      <td>min</td>\n",
       "      <td>3.529228</td>\n",
       "    </tr>\n",
       "  </tbody>\n",
       "</table>\n",
       "<p>22998 rows × 14 columns</p>\n",
       "</div>"
      ],
      "text/plain": [
       "           id     type                 title         director  \\\n",
       "0         as1    movie   the grand seduction     don mckellar   \n",
       "1         as2    movie  take care good night     girish joshi   \n",
       "2         as3    movie  secrets of deception      josh webber   \n",
       "3         as4    movie    pink: staying true   sonia anderson   \n",
       "4         as5    movie         monster maker     giles foster   \n",
       "...       ...      ...                   ...              ...   \n",
       "22993  ns8803    movie                zodiac    david fincher   \n",
       "22994  ns8804  tv show           zombie dumb              NaN   \n",
       "22995  ns8805    movie            zombieland  ruben fleischer   \n",
       "22996  ns8806    movie                  zoom     peter hewitt   \n",
       "22997  ns8807    movie                zubaan      mozez singh   \n",
       "\n",
       "                                                    cast         country  \\\n",
       "0         brendan gleeson, taylor kitsch, gordon pinsent          canada   \n",
       "1       mahesh manjrekar, abhay mahajan, sachin khedekar           india   \n",
       "2      tom sizemore, lorenzo lamas, robert lasardo, r...   united states   \n",
       "3      interviews with: pink, adele, beyoncé, britney...   united states   \n",
       "4      harry dean stanton, kieran o'brien, george cos...  united kingdom   \n",
       "...                                                  ...             ...   \n",
       "22993  mark ruffalo, jake gyllenhaal, robert downey j...   united states   \n",
       "22994                                                NaN             NaN   \n",
       "22995  jesse eisenberg, woody harrelson, emma stone, ...   united states   \n",
       "22996  tim allen, courteney cox, chevy chase, kate ma...   united states   \n",
       "22997  vicky kaushal, sarah-jane dias, raaghav chanan...           india   \n",
       "\n",
       "       date_added  release_year rating  \\\n",
       "0      2021-03-30          2014      g   \n",
       "1      2021-03-30          2018    13+   \n",
       "2      2021-03-30          2017      g   \n",
       "3      2021-03-30          2014      g   \n",
       "4      2021-03-30          1989      g   \n",
       "...           ...           ...    ...   \n",
       "22993  2019-11-20          2007      r   \n",
       "22994  2019-07-01          2018  tv-y7   \n",
       "22995  2019-11-01          2009      r   \n",
       "22996  2020-01-11          2006     pg   \n",
       "22997  2019-03-02          2015  tv-14   \n",
       "\n",
       "                                            listed_in  \\\n",
       "0                                       comedy, drama   \n",
       "1                                drama, international   \n",
       "2                             action, drama, suspense   \n",
       "3                                         documentary   \n",
       "4                                      drama, fantasy   \n",
       "...                                               ...   \n",
       "22993                  cult movies, dramas, thrillers   \n",
       "22994          kids' tv, korean tv shows, tv comedies   \n",
       "22995                         comedies, horror movies   \n",
       "22996              children & family movies, comedies   \n",
       "22997  dramas, international movies, music & musicals   \n",
       "\n",
       "                                             description  duration_int  \\\n",
       "0      a small fishing village must procure a local d...         113.0   \n",
       "1      a metro family decides to fight a cyber crimin...         110.0   \n",
       "2      after a man discovers his wife is cheating on ...          74.0   \n",
       "3      pink breaks the mold once again, bringing her ...          69.0   \n",
       "4      teenage matt banting wants to work with a famo...          45.0   \n",
       "...                                                  ...           ...   \n",
       "22993  a political cartoonist, a crime reporter and a...         158.0   \n",
       "22994  while living alone in a spooky town, a young g...           2.0   \n",
       "22995  looking to survive in a world taken over by zo...          88.0   \n",
       "22996  dragged from civilian life, a former superhero...          88.0   \n",
       "22997  a scrappy but poor boy worms his way into a ty...         111.0   \n",
       "\n",
       "      duration_type     score  \n",
       "0               min  3.467131  \n",
       "1               min  3.548682  \n",
       "2               min  3.500000  \n",
       "3               min  3.538055  \n",
       "4               min  3.478992  \n",
       "...             ...       ...  \n",
       "22993           min  3.438998  \n",
       "22994       seasons  3.515947  \n",
       "22995           min  3.420945  \n",
       "22996           min  3.588050  \n",
       "22997           min  3.529228  \n",
       "\n",
       "[22998 rows x 14 columns]"
      ]
     },
     "execution_count": 118,
     "metadata": {},
     "output_type": "execute_result"
    }
   ],
   "source": [
    "#Después de ver un poco en detalle los faltantes, se estaría drapeando la columna descripción. #Aun habría valores vacíos pero pueden ser significativos de alguna forma, habría que ver mas adelante en un profundo análisis.\n",
    "#Transformar duration vuelta a int\n",
    "platf_dt"
   ]
  },
  {
   "cell_type": "code",
   "execution_count": 119,
   "metadata": {},
   "outputs": [
    {
     "data": {
      "text/plain": [
       "id                   0\n",
       "type                 0\n",
       "title                0\n",
       "director          7780\n",
       "cast              4842\n",
       "country          11319\n",
       "date_added        9554\n",
       "release_year         0\n",
       "rating               0\n",
       "listed_in            0\n",
       "duration_int         0\n",
       "duration_type        0\n",
       "score                0\n",
       "dtype: int64"
      ]
     },
     "execution_count": 119,
     "metadata": {},
     "output_type": "execute_result"
    }
   ],
   "source": [
    "platf_dt= platf_dt.drop(columns=['description'], axis=1)\n",
    "platf_dt = platf_dt[~platf_dt['duration_int'].isnull()].copy()\n",
    "platf_dt['duration_int']=platf_dt['duration_int'].astype('int64')\n",
    "platf_dt.isnull().sum()\n"
   ]
  },
  {
   "cell_type": "code",
   "execution_count": 120,
   "metadata": {},
   "outputs": [
    {
     "name": "stdout",
     "output_type": "stream",
     "text": [
      "<class 'pandas.core.frame.DataFrame'>\n",
      "Int64Index: 22516 entries, 0 to 22997\n",
      "Data columns (total 13 columns):\n",
      " #   Column         Non-Null Count  Dtype  \n",
      "---  ------         --------------  -----  \n",
      " 0   id             22516 non-null  object \n",
      " 1   type           22516 non-null  object \n",
      " 2   title          22516 non-null  object \n",
      " 3   director       14736 non-null  object \n",
      " 4   cast           17674 non-null  object \n",
      " 5   country        11197 non-null  object \n",
      " 6   date_added     12962 non-null  object \n",
      " 7   release_year   22516 non-null  int64  \n",
      " 8   rating         22516 non-null  object \n",
      " 9   listed_in      22516 non-null  object \n",
      " 10  duration_int   22516 non-null  int64  \n",
      " 11  duration_type  22516 non-null  object \n",
      " 12  score          22516 non-null  float64\n",
      "dtypes: float64(1), int64(2), object(10)\n",
      "memory usage: 2.4+ MB\n"
     ]
    }
   ],
   "source": [
    "\n",
    "platf_dt.info()"
   ]
  },
  {
   "cell_type": "code",
   "execution_count": 121,
   "metadata": {},
   "outputs": [
    {
     "ename": "SyntaxError",
     "evalue": "invalid syntax (265677312.py, line 1)",
     "output_type": "error",
     "traceback": [
      "\u001b[1;36m  Cell \u001b[1;32mIn[121], line 1\u001b[1;36m\u001b[0m\n\u001b[1;33m    from skleanr import\u001b[0m\n\u001b[1;37m                        ^\u001b[0m\n\u001b[1;31mSyntaxError\u001b[0m\u001b[1;31m:\u001b[0m invalid syntax\n"
     ]
    }
   ],
   "source": [
    "from skleanr import "
   ]
  }
 ],
 "metadata": {
  "kernelspec": {
   "display_name": "Python 3",
   "language": "python",
   "name": "python3"
  },
  "language_info": {
   "codemirror_mode": {
    "name": "ipython",
    "version": 3
   },
   "file_extension": ".py",
   "mimetype": "text/x-python",
   "name": "python",
   "nbconvert_exporter": "python",
   "pygments_lexer": "ipython3",
   "version": "3.10.10"
  },
  "orig_nbformat": 4,
  "vscode": {
   "interpreter": {
    "hash": "b5e6b52804f74d2d337675a57a98d7c0444204d0ab697dc9c806eee3f2bcf05c"
   }
  }
 },
 "nbformat": 4,
 "nbformat_minor": 2
}
